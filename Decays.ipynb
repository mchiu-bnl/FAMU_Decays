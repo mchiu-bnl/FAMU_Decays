{
 "cells": [
  {
   "cell_type": "markdown",
   "id": "156d36a7-0505-4493-8f40-ae5a87d5fa08",
   "metadata": {},
   "source": [
    "# Data analysis of FAMU radioactivity experiment"
   ]
  },
  {
   "cell_type": "code",
   "execution_count": null,
   "id": "c60a1c8e-386c-4f70-bd09-b635f1b5aae6",
   "metadata": {},
   "outputs": [],
   "source": [
    "import pandas as pd\n",
    "import glob\n",
    "import matplotlib.pyplot as plt\n",
    "import numpy as np\n"
   ]
  },
  {
   "cell_type": "code",
   "execution_count": null,
   "id": "b962fd2e-24a2-4fd2-a051-e8126e3a1157",
   "metadata": {},
   "outputs": [],
   "source": [
    "# Function to select rows based on your pattern\n",
    "# skip_first=1 means do skip, then select\n",
    "# skip_first=0 meaan do select, then skip\n",
    "def select_rows_in_chunks(df, select_size=50, skip_size=50, skip_first=0):\n",
    "    print('select rows shape ',df.shape)\n",
    "    selected_rows = []\n",
    "    for i in range(0, len(df), select_size + skip_size):\n",
    "        if skip_first == 0:\n",
    "            selected_rows.extend(range(i, min(i + select_size, len(df))))\n",
    "            #print('even ',i, min(i + select_size, len(df)))\n",
    "        else:\n",
    "            selected_rows.extend(range(i+skip_size, min(i + skip_size + select_size, len(df))))\n",
    "            #print('odd  ', i+skip_size, min(i + skip_size + select_size, len(df)))\n",
    "    \n",
    "    #print('len selected_rows ',len(selected_rows))\n",
    "    #print(selected_rows)\n",
    "    \n",
    "    return df.iloc[selected_rows]\n",
    "    "
   ]
  },
  {
   "cell_type": "code",
   "execution_count": null,
   "id": "1b405e8f-c51a-4d41-8028-77730580888a",
   "metadata": {},
   "outputs": [],
   "source": [
    "def windowed_diff(s1, s2, n):\n",
    "    s1ra = s1.rolling(window=n, min_periods=1, center=True).sum()  # min_periods=1 to handle edge cases\n",
    "    s2ra = s2.rolling(window=n, min_periods=1, center=True).sum()  # min_periods=1 to handle edge cases\n",
    "\n",
    "    difference = s1ra - s2ra\n",
    "    #print('s1ra\\n',s1ra[400:410])\n",
    "\n",
    "    errors = np.sqrt(np.abs(s1ra) + np.abs(s2ra))\n",
    "    \n",
    "    return difference, errors\n",
    "\n",
    "    \n",
    "\n"
   ]
  },
  {
   "cell_type": "markdown",
   "id": "48ac8667-4a74-4d58-ac6b-d2cdd66c17db",
   "metadata": {},
   "source": [
    "# Load Data"
   ]
  },
  {
   "cell_type": "code",
   "execution_count": null,
   "id": "978884ba-f874-4b00-952f-854fe3f4c73d",
   "metadata": {},
   "outputs": [],
   "source": [
    "# Load datafiles as specified in glob below\n",
    "\n",
    "#datafiles = glob.glob('PH*.txt')\n",
    "#datafiles = glob.glob('PH*laser*0001.txt')\n",
    "#datafiles = glob.glob('PHHvT_Tally4/PH*.txt')\n",
    "datafiles = glob.glob('Chicago/PH*.txt')\n",
    "\n",
    "datafiles.sort()\n",
    "datafiles"
   ]
  },
  {
   "cell_type": "markdown",
   "id": "73022da2-ee86-4854-9b15-2eacbd2f61ca",
   "metadata": {},
   "source": [
    "# Spectral Data and Differences in Spectra"
   ]
  },
  {
   "cell_type": "code",
   "execution_count": null,
   "id": "001ac460-5fb1-4397-a875-c66500c07d81",
   "metadata": {},
   "outputs": [],
   "source": [
    "# Read data into dataframes\n",
    "df = {}\n",
    "tot_spectra = {}      # sum of spectra over all time\n",
    "even_spectra = {}     # first N minutes, and all the other alternating N minutes thereafter\n",
    "odd_spectra = {}      # second N minutes\n",
    "diff = {}             # windowed diff in odd-even spectra\n",
    "errs = {}             # errors on windowed diff\n",
    "diff_sigma = {}       # diff in units of sigma\n",
    "diff_sigma_errs = {}  # error on different\n",
    "\n",
    "window_size = 1\n",
    "\n",
    "minutes_onoff = 15\n",
    "nbins_onoff = minutes_onoff*60//18      # num 18 ns time bins where laser is on, or off\n",
    "print(\"nbins on/off = \",nbins_onoff)\n",
    "\n",
    "for f in datafiles:\n",
    "    df[f] = pd.read_csv(f, header=None, delimiter=r\"\\s+\")\n",
    "\n",
    "    nblocks = df[f].index.size // nbins_onoff     # num complete on-off blocks (not cut in middle)\n",
    "    if (nblocks % 2) == 1:\n",
    "        print(\"Have odd number of on-off blocks, dropping last block\")\n",
    "        nblocks = nblocks - 1\n",
    "    print(\"nblocks = \",nblocks,\", \",f)\n",
    "\n",
    "    nrows_complete = nblocks*nbins_onoff          # total number of 18ns bins in on or off spectra\n",
    "    print('nrows_complete ', nrows_complete)\n",
    "    \n",
    "    #df[f]\n",
    "    \n",
    "    # for each bin, sum the bin over time to get the total spectrum from the run\n",
    "    tot_spectra[f] = df[f][0:nrows_complete].sum(axis=0)\n",
    "\n",
    "    # now sum the even and odd in time spectra\n",
    "    even_spectra[f] = select_rows_in_chunks(df[f][0:nrows_complete],select_size=nbins_onoff,skip_size=nbins_onoff,skip_first=0).sum(axis=0)\n",
    "    odd_spectra[f] = select_rows_in_chunks(df[f][0:nrows_complete],select_size=nbins_onoff,skip_size=nbins_onoff,skip_first=1).sum(axis=0)\n",
    "\n",
    "    print('shape even odd ',even_spectra[f].shape,odd_spectra[f].shape)\n",
    "    \n",
    "    diff[f], errs[f] = windowed_diff( odd_spectra[f], even_spectra[f], window_size )\n",
    "\n",
    "    diff_sigma[f] = diff[f]/errs[f]             # diff of spectra 1 and 2 in terms of sigma\n",
    "    diff_sigma_errs[f] = np.sqrt(1 + 0.5*diff_sigma[f]*diff_sigma[f])     # error on ratio\n",
    "    "
   ]
  },
  {
   "cell_type": "markdown",
   "id": "82511d71-e65c-4d1d-8c55-042478e4de70",
   "metadata": {},
   "source": [
    "# Time Series"
   ]
  },
  {
   "cell_type": "code",
   "execution_count": null,
   "id": "620bcba1-7611-45be-adc5-dbf6c4fd82c5",
   "metadata": {},
   "outputs": [],
   "source": [
    "# Create the time-series for each datafile\n",
    "counts = {}\n",
    "time = {}\n",
    "timestep = 18./3600.   # time in hours\n",
    "\n",
    "for f in datafiles:\n",
    "    # get time-series by summing all bins in the spectrum to get the total counts at each time step\n",
    "    counts[f] = df[f].sum(axis=1)\n",
    "\n",
    "    # drop last entry since the daq length isn't always 18s\n",
    "    counts[f] = counts[f].iloc[:-1]\n",
    "\n",
    "    # get time axis\n",
    "    tmax = timestep*(len(counts[f][:-1]))\n",
    "    time[f] = np.linspace(0, tmax, len(counts[f]), endpoint=False)"
   ]
  },
  {
   "cell_type": "markdown",
   "id": "0113e7bb-b708-4e96-8215-6c07c4739353",
   "metadata": {},
   "source": [
    "# Plot Spectra and Differences in Spectra"
   ]
  },
  {
   "cell_type": "code",
   "execution_count": null,
   "id": "dc497cd2-95ea-4d83-a936-bb5c0eb2e6a5",
   "metadata": {},
   "outputs": [],
   "source": [
    "docheck = 0\n",
    "\n",
    "for key,spectra in tot_spectra.items():\n",
    "    print(key)\n",
    "    \n",
    "    #if key != 'PHHvT_020525_sP-sD_B45-PolPer-D1776-B1765_stepmotor.txt':\n",
    "    #    continue\n",
    "\n",
    "    plt.figure(figsize=(12, 6))\n",
    "    plt.xlabel('ADC')\n",
    "    plt.ylabel('Counts')\n",
    "    plt.title('Spectrum')\n",
    "    plt.semilogy(spectra)\n",
    "    even_spectra[key].plot()\n",
    "    odd_spectra[key].plot()\n",
    "    plt.show()\n",
    "\n",
    "    if docheck == 1:\n",
    "        print('even_spectra\\n',even_spectra[key][400:410])\n",
    "        print('odd_spectra\\n',odd_spectra[key][400:410])\n",
    "    \n",
    "    plt.figure(figsize=(12, 6))\n",
    "    plt.xlabel('ADC')\n",
    "    plt.ylabel('Delta-Counts')\n",
    "    plt.title('Laser On - Laser Off Spectrum')\n",
    "    plt.errorbar(diff[key].index, diff[key], yerr=errs[key], fmt='o', capsize=5, markerfacecolor='green')\n",
    "    plt.show()\n",
    "\n",
    "    if docheck == 1:\n",
    "        print('diff\\n',diff[key][400:410])\n",
    "        print('errs\\n',errs[key][400:410])\n",
    "\n",
    "    plt.figure(figsize=(12, 6))\n",
    "    plt.xlabel('ADC')\n",
    "    plt.ylabel('Delta-Counts / Sigma')\n",
    "    plt.title('Laser On - Laser Off Spectrum, in units of sigma')\n",
    "\n",
    "    \n",
    "    if docheck == 1:\n",
    "        print('diff_sigma\\n',diff_sigma[key][400:410])\n",
    "        print('diff_sigma_errs\\n',diff_sigma_errs[key][400:410])\n",
    "\n",
    "    plt.errorbar(diff[key].index, diff[key]/errs[key], yerr=diff_sigma_errs[key], fmt='o', capsize=5, markerfacecolor='green')\n",
    "    plt.show()\n",
    "\n",
    "    # Create Delta/Sigma histogram\n",
    "    plt.hist(diff_sigma[key], bins=50, edgecolor='black', alpha=0.7)\n",
    "    plt.xlabel(\"Delta/Sigma\")\n",
    "    plt.ylabel(\"Counts\")\n",
    "    plt.title(\"Histogram of Delta/Sigma\")\n",
    "    plt.show()\n",
    "\n",
    "    # Plot Time Series\n",
    "    plt.figure(figsize=(12, 6))\n",
    "    plt.xlabel('Time [hr]')\n",
    "    plt.ylabel('Counts/18s')\n",
    "    plt.title('Counts vs time')\n",
    "    plt.plot(time[key],counts[key])\n",
    "    plt.show()\n",
    "\n",
    "\n",
    "print('END')    "
   ]
  },
  {
   "cell_type": "markdown",
   "id": "a74fab20-61e8-436d-b6c2-01fec0819d10",
   "metadata": {},
   "source": [
    "# Fast Fourier Transforms\n"
   ]
  },
  {
   "cell_type": "code",
   "execution_count": null,
   "id": "2e116923-d775-4a04-97d4-54c445a8a49c",
   "metadata": {},
   "outputs": [],
   "source": [
    "# Calculate the FFT of each time series\n",
    "fft_result = {}\n",
    "frequencies = {}\n",
    "pos_freqs = {}\n",
    "pos_fft = {}\n",
    "\n",
    "for key,value in counts.items():\n",
    "\n",
    "    # Perform FFT\n",
    "    fft_result[key] = np.fft.fft(value)  # Compute FFT\n",
    "    frequencies[key] = np.fft.fftfreq(len(value),d=timestep)  # Compute frequency bins\n",
    "\n",
    "    # Only keep the positive half of the spectrum\n",
    "    pos_freqs[key] = frequencies[key][frequencies[key] >= 0.0]\n",
    "    pos_fft[key] = np.abs(fft_result[key][frequencies[key] >= 0.0])\n",
    "\n",
    "\n",
    " "
   ]
  },
  {
   "cell_type": "code",
   "execution_count": null,
   "id": "98ce6cec-baf2-42be-899e-ae3cba376f2b",
   "metadata": {},
   "outputs": [],
   "source": [
    "# Plot the FFT\n",
    "for key,value in counts.items():\n",
    "    print(key)\n",
    "\n",
    "    plt.figure(figsize=(12, 6))\n",
    "    plt.xlabel('Freq [/hr]')\n",
    "    plt.ylabel('FFT Ampl')\n",
    "    plt.title('FFT')\n",
    "    plt.plot(pos_freqs[key][1:], pos_fft[key][1:], label=\"FFT\")\n",
    "    plt.show()\n",
    "\n"
   ]
  },
  {
   "cell_type": "markdown",
   "id": "c2d81a6e-d93c-4e0f-99b6-c50f1c011a81",
   "metadata": {},
   "source": [
    "# Save to CSV"
   ]
  },
  {
   "cell_type": "code",
   "execution_count": null,
   "id": "8b5bbd9c-97d2-4af8-9adc-7464a0d63d15",
   "metadata": {},
   "outputs": [],
   "source": [
    "# Save to csv\n",
    "\n",
    "dfout = {}\n",
    "row_names = [ 'spectra', 'on spectra', 'off spectra', 'delta','sigma_delta','delta/sigma','sigma_(delta/sigma)' ]\n",
    "\n",
    "for key,spectra in tot_spectra.items():\n",
    "    print(key)\n",
    "    \n",
    "    dfout[key] = pd.DataFrame(columns=list(range(0,len(spectra))))\n",
    "    dfout[key].loc[len(dfout[key])] = spectra\n",
    "    dfout[key].loc[len(dfout[key])] = even_spectra[key]\n",
    "    dfout[key].loc[len(dfout[key])] = odd_spectra[key]\n",
    "    dfout[key].loc[len(dfout[key])] = diff[key]\n",
    "    dfout[key].loc[len(dfout[key])] = errs[key]\n",
    "    dfout[key].loc[len(dfout[key])] = diff_sigma[key]\n",
    "    dfout[key].loc[len(dfout[key])] = diff_sigma_errs[key]\n",
    "\n",
    "    dfout[key].insert(0,'name',row_names)\n",
    "    \n",
    "    #print(dfout[key])\n",
    "\n",
    "    savefname = key[:-4] + '.csv'\n",
    "    dfout[key].to_csv(savefname)\n",
    "\n"
   ]
  },
  {
   "cell_type": "code",
   "execution_count": null,
   "id": "ee32ecac-d3c5-43a4-a7c7-6a76ae8d7123",
   "metadata": {},
   "outputs": [],
   "source": [
    "#\n",
    "# Checking that sum is correct... (not off by 1)\n",
    "#\n",
    "\n",
    "#fname = 'PHHvT_Tally_laser1_020725_sP-sD_B45-PolPar_D1781_B1761_stepmotor_0001.txt'\n",
    "#print(df[fname][0:4800].shape)\n",
    "#print(df[fname][0:4800].sum(axis=0)[0:20])\n",
    "#print(np.sum(df[fname][0:4800],axis=0)[0:20])\n",
    "\n",
    "#tot_spectra[fname][0:20]"
   ]
  }
 ],
 "metadata": {
  "kernelspec": {
   "display_name": "famu_decays",
   "language": "python",
   "name": "famu_decays"
  },
  "language_info": {
   "codemirror_mode": {
    "name": "ipython",
    "version": 3
   },
   "file_extension": ".py",
   "mimetype": "text/x-python",
   "name": "python",
   "nbconvert_exporter": "python",
   "pygments_lexer": "ipython3",
   "version": "3.13.2"
  }
 },
 "nbformat": 4,
 "nbformat_minor": 5
}
